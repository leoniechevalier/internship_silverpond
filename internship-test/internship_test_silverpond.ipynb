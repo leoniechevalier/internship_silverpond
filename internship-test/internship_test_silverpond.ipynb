{
 "cells": [
  {
   "cell_type": "markdown",
   "metadata": {},
   "source": [
    "# Prescision in ML models\n",
    "\n",
    "A brief exploration of how to calculate the prescision of various ML models.\n"
   ]
  },
  {
   "cell_type": "code",
   "execution_count": 1,
   "metadata": {},
   "outputs": [],
   "source": [
    "#imports\n",
    "import numpy as np\n",
    "import pandas as pd\n",
    "import matplotlib.pyplot as plt\n",
    "from sklearn.linear_model import Ridge,Lasso,LinearRegression,LogisticRegression\n",
    "from sklearn.neighbors import KNeighborsClassifier\n",
    "from sklearn.model_selection import cross_val_score,train_test_split,KFold\n",
    "from sklearn.metrics import classification_report,confusion_matrix, mean_squared_error,roc_curve\n",
    "import seaborn as sns\n",
    "%matplotlib inline\n",
    "plt.style.use('ggplot')\n"
   ]
  },
  {
   "cell_type": "code",
   "execution_count": 2,
   "metadata": {},
   "outputs": [],
   "source": [
    "# import dataset\n",
    "#Melbourne Housing data taken from Kaggle\n",
    "df = pd.read_csv('Melbourne_housing_FULL.csv')\n"
   ]
  },
  {
   "cell_type": "code",
   "execution_count": 3,
   "metadata": {},
   "outputs": [
    {
     "data": {
      "text/html": [
       "<div>\n",
       "<table border=\"1\" class=\"dataframe\">\n",
       "  <thead>\n",
       "    <tr style=\"text-align: right;\">\n",
       "      <th></th>\n",
       "      <th>Rooms</th>\n",
       "      <th>Price</th>\n",
       "      <th>Distance</th>\n",
       "      <th>Postcode</th>\n",
       "      <th>Bedroom2</th>\n",
       "      <th>Bathroom</th>\n",
       "      <th>Car</th>\n",
       "      <th>Landsize</th>\n",
       "      <th>BuildingArea</th>\n",
       "      <th>YearBuilt</th>\n",
       "      <th>Lattitude</th>\n",
       "      <th>Longtitude</th>\n",
       "      <th>Propertycount</th>\n",
       "    </tr>\n",
       "  </thead>\n",
       "  <tbody>\n",
       "    <tr>\n",
       "      <th>count</th>\n",
       "      <td>8887.000000</td>\n",
       "      <td>8.887000e+03</td>\n",
       "      <td>8887.000000</td>\n",
       "      <td>8887.000000</td>\n",
       "      <td>8887.000000</td>\n",
       "      <td>8887.000000</td>\n",
       "      <td>8887.000000</td>\n",
       "      <td>8887.000000</td>\n",
       "      <td>8887.000000</td>\n",
       "      <td>8887.000000</td>\n",
       "      <td>8887.000000</td>\n",
       "      <td>8887.000000</td>\n",
       "      <td>8887.000000</td>\n",
       "    </tr>\n",
       "    <tr>\n",
       "      <th>mean</th>\n",
       "      <td>3.098909</td>\n",
       "      <td>1.092902e+06</td>\n",
       "      <td>11.199887</td>\n",
       "      <td>3111.662653</td>\n",
       "      <td>3.078204</td>\n",
       "      <td>1.646450</td>\n",
       "      <td>1.692247</td>\n",
       "      <td>523.480365</td>\n",
       "      <td>149.309477</td>\n",
       "      <td>1965.753348</td>\n",
       "      <td>-37.804501</td>\n",
       "      <td>144.991393</td>\n",
       "      <td>7475.940137</td>\n",
       "    </tr>\n",
       "    <tr>\n",
       "      <th>std</th>\n",
       "      <td>0.963786</td>\n",
       "      <td>6.793819e+05</td>\n",
       "      <td>6.813402</td>\n",
       "      <td>112.614268</td>\n",
       "      <td>0.966269</td>\n",
       "      <td>0.721611</td>\n",
       "      <td>0.975464</td>\n",
       "      <td>1061.324228</td>\n",
       "      <td>87.925580</td>\n",
       "      <td>37.040876</td>\n",
       "      <td>0.090549</td>\n",
       "      <td>0.118919</td>\n",
       "      <td>4375.024364</td>\n",
       "    </tr>\n",
       "    <tr>\n",
       "      <th>min</th>\n",
       "      <td>1.000000</td>\n",
       "      <td>1.310000e+05</td>\n",
       "      <td>0.000000</td>\n",
       "      <td>3000.000000</td>\n",
       "      <td>0.000000</td>\n",
       "      <td>1.000000</td>\n",
       "      <td>0.000000</td>\n",
       "      <td>0.000000</td>\n",
       "      <td>0.000000</td>\n",
       "      <td>1196.000000</td>\n",
       "      <td>-38.174360</td>\n",
       "      <td>144.423790</td>\n",
       "      <td>249.000000</td>\n",
       "    </tr>\n",
       "    <tr>\n",
       "      <th>25%</th>\n",
       "      <td>2.000000</td>\n",
       "      <td>6.410000e+05</td>\n",
       "      <td>6.400000</td>\n",
       "      <td>3044.000000</td>\n",
       "      <td>2.000000</td>\n",
       "      <td>1.000000</td>\n",
       "      <td>1.000000</td>\n",
       "      <td>212.000000</td>\n",
       "      <td>100.000000</td>\n",
       "      <td>1945.000000</td>\n",
       "      <td>-37.858560</td>\n",
       "      <td>144.920000</td>\n",
       "      <td>4382.500000</td>\n",
       "    </tr>\n",
       "    <tr>\n",
       "      <th>50%</th>\n",
       "      <td>3.000000</td>\n",
       "      <td>9.000000e+05</td>\n",
       "      <td>10.200000</td>\n",
       "      <td>3084.000000</td>\n",
       "      <td>3.000000</td>\n",
       "      <td>2.000000</td>\n",
       "      <td>2.000000</td>\n",
       "      <td>478.000000</td>\n",
       "      <td>132.000000</td>\n",
       "      <td>1970.000000</td>\n",
       "      <td>-37.798700</td>\n",
       "      <td>144.998500</td>\n",
       "      <td>6567.000000</td>\n",
       "    </tr>\n",
       "    <tr>\n",
       "      <th>75%</th>\n",
       "      <td>4.000000</td>\n",
       "      <td>1.345000e+06</td>\n",
       "      <td>13.900000</td>\n",
       "      <td>3150.000000</td>\n",
       "      <td>4.000000</td>\n",
       "      <td>2.000000</td>\n",
       "      <td>2.000000</td>\n",
       "      <td>652.000000</td>\n",
       "      <td>180.000000</td>\n",
       "      <td>2000.000000</td>\n",
       "      <td>-37.748945</td>\n",
       "      <td>145.064560</td>\n",
       "      <td>10331.000000</td>\n",
       "    </tr>\n",
       "    <tr>\n",
       "      <th>max</th>\n",
       "      <td>12.000000</td>\n",
       "      <td>9.000000e+06</td>\n",
       "      <td>47.400000</td>\n",
       "      <td>3977.000000</td>\n",
       "      <td>12.000000</td>\n",
       "      <td>9.000000</td>\n",
       "      <td>10.000000</td>\n",
       "      <td>42800.000000</td>\n",
       "      <td>3112.000000</td>\n",
       "      <td>2019.000000</td>\n",
       "      <td>-37.407200</td>\n",
       "      <td>145.526350</td>\n",
       "      <td>21650.000000</td>\n",
       "    </tr>\n",
       "  </tbody>\n",
       "</table>\n",
       "</div>"
      ],
      "text/plain": [
       "             Rooms         Price     Distance     Postcode     Bedroom2  \\\n",
       "count  8887.000000  8.887000e+03  8887.000000  8887.000000  8887.000000   \n",
       "mean      3.098909  1.092902e+06    11.199887  3111.662653     3.078204   \n",
       "std       0.963786  6.793819e+05     6.813402   112.614268     0.966269   \n",
       "min       1.000000  1.310000e+05     0.000000  3000.000000     0.000000   \n",
       "25%       2.000000  6.410000e+05     6.400000  3044.000000     2.000000   \n",
       "50%       3.000000  9.000000e+05    10.200000  3084.000000     3.000000   \n",
       "75%       4.000000  1.345000e+06    13.900000  3150.000000     4.000000   \n",
       "max      12.000000  9.000000e+06    47.400000  3977.000000    12.000000   \n",
       "\n",
       "          Bathroom          Car      Landsize  BuildingArea    YearBuilt  \\\n",
       "count  8887.000000  8887.000000   8887.000000   8887.000000  8887.000000   \n",
       "mean      1.646450     1.692247    523.480365    149.309477  1965.753348   \n",
       "std       0.721611     0.975464   1061.324228     87.925580    37.040876   \n",
       "min       1.000000     0.000000      0.000000      0.000000  1196.000000   \n",
       "25%       1.000000     1.000000    212.000000    100.000000  1945.000000   \n",
       "50%       2.000000     2.000000    478.000000    132.000000  1970.000000   \n",
       "75%       2.000000     2.000000    652.000000    180.000000  2000.000000   \n",
       "max       9.000000    10.000000  42800.000000   3112.000000  2019.000000   \n",
       "\n",
       "         Lattitude   Longtitude  Propertycount  \n",
       "count  8887.000000  8887.000000    8887.000000  \n",
       "mean    -37.804501   144.991393    7475.940137  \n",
       "std       0.090549     0.118919    4375.024364  \n",
       "min     -38.174360   144.423790     249.000000  \n",
       "25%     -37.858560   144.920000    4382.500000  \n",
       "50%     -37.798700   144.998500    6567.000000  \n",
       "75%     -37.748945   145.064560   10331.000000  \n",
       "max     -37.407200   145.526350   21650.000000  "
      ]
     },
     "execution_count": 3,
     "metadata": {},
     "output_type": "execute_result"
    }
   ],
   "source": [
    "#get rid of anything that is a nan\n",
    "df=df.dropna(axis=0, how='any')\n",
    "df.describe()\n",
    "#print (df.columns)"
   ]
  },
  {
   "cell_type": "code",
   "execution_count": null,
   "metadata": {},
   "outputs": [],
   "source": []
  },
  {
   "cell_type": "markdown",
   "metadata": {},
   "source": [
    "# Accuracy in Classification Models\n",
    "\n",
    "In classification models we try and assign a datapoint to a class given a particular model. Accuracy is determined via a test set by comparing predicted outcomes to the true values.\n",
    "\n",
    "As an example lets try classifying properties into their types by their number of rooms and price."
   ]
  },
  {
   "cell_type": "code",
   "execution_count": 4,
   "metadata": {},
   "outputs": [
    {
     "data": {
      "image/png": "[encoded data removed]",
      "text/plain": [
       "<matplotlib.figure.Figure at 0x119639320>"
      ]
     },
     "metadata": {},
     "output_type": "display_data"
    }
   ],
   "source": [
    "#plot data\n",
    "\n",
    "\n",
    "sns.lmplot( x=\"Price\", y=\"Landsize\", data=df, fit_reg=False, hue='Type', legend=True)\n",
    " \n",
    "plt.show()"
   ]
  },
  {
   "cell_type": "markdown",
   "metadata": {},
   "source": [
    "due to the large overlap we want to exclude all points of the t class from further analysis\n",
    "(Ran it with 't' type in before but it had a hard time predicting anything and it was interefering with the rest of the model)"
   ]
  },
  {
   "cell_type": "code",
   "execution_count": 5,
   "metadata": {},
   "outputs": [
    {
     "name": "stdout",
     "output_type": "stream",
     "text": [
      "<class 'pandas.core.frame.DataFrame'>\n",
      "Int64Index: 8165 entries, 2 to 34856\n",
      "Data columns (total 21 columns):\n",
      "Suburb           8165 non-null object\n",
      "Address          8165 non-null object\n",
      "Rooms            8165 non-null int64\n",
      "Type             8165 non-null object\n",
      "Price            8165 non-null float64\n",
      "Method           8165 non-null object\n",
      "SellerG          8165 non-null object\n",
      "Date             8165 non-null object\n",
      "Distance         8165 non-null float64\n",
      "Postcode         8165 non-null float64\n",
      "Bedroom2         8165 non-null float64\n",
      "Bathroom         8165 non-null float64\n",
      "Car              8165 non-null float64\n",
      "Landsize         8165 non-null float64\n",
      "BuildingArea     8165 non-null float64\n",
      "YearBuilt        8165 non-null float64\n",
      "CouncilArea      8165 non-null object\n",
      "Lattitude        8165 non-null float64\n",
      "Longtitude       8165 non-null float64\n",
      "Regionname       8165 non-null object\n",
      "Propertycount    8165 non-null float64\n",
      "dtypes: float64(12), int64(1), object(8)\n",
      "memory usage: 1.4+ MB\n"
     ]
    }
   ],
   "source": [
    "df = df[df['Type']!='t']\n",
    "# means we have to make it drop all nans again\n",
    "df = df.dropna(axis=0, how='any')\n",
    "\n",
    "df.info()"
   ]
  },
  {
   "cell_type": "code",
   "execution_count": 6,
   "metadata": {},
   "outputs": [
    {
     "name": "stdout",
     "output_type": "stream",
     "text": [
      "['h' 'u']\n"
     ]
    }
   ],
   "source": [
    "y =df['Type'].values\n",
    "#double check all 't' types have been removed\n",
    "print(pd.unique(y))\n",
    "\n",
    "X = df[['Rooms','Price','Distance','YearBuilt','Landsize','BuildingArea']].values\n",
    "\n",
    "#create training and testing datasets\n",
    "# Problem with this is that it is dependant exactly how the split between train and test is choosen\n",
    "\n",
    "X_train, X_test, y_train, y_test = train_test_split(X, y, test_size = 0.1, random_state=123, stratify=y)"
   ]
  },
  {
   "cell_type": "code",
   "execution_count": 7,
   "metadata": {},
   "outputs": [
    {
     "data": {
      "image/png": "[encoded data removed]",
      "text/plain": [
       "<matplotlib.figure.Figure at 0x104c57a20>"
      ]
     },
     "metadata": {},
     "output_type": "display_data"
    }
   ],
   "source": [
    "# The number of neighbours is important\n",
    "# Here we loop over several numbers of k to determine the optimum number of neighbours\n",
    "# the optimum number of neighbours is where we optimize for both the training and testing accuracy\n",
    "\n",
    "neighbors = np.arange(1,11)\n",
    "train_accuracy = np.empty(len(neighbors))\n",
    "test_accuracy = np.empty(len(neighbors))\n",
    "\n",
    "for i, k in enumerate(neighbors):\n",
    "    knn = KNeighborsClassifier(n_neighbors=k)\n",
    "    knn.fit(X_train,y_train)\n",
    "    train_accuracy[i] = knn.score(X_train, y_train)\n",
    "    test_accuracy[i] = knn.score(X_test, y_test)\n",
    "\n",
    "plt.plot(neighbors, test_accuracy, label = 'Accuracy using Testing set')\n",
    "plt.plot(neighbors, train_accuracy, label = 'Accuracy using Training set')\n",
    "plt.legend()\n",
    "plt.xlabel('Number of Neighbors')\n",
    "plt.ylabel('Accuracy')\n",
    "plt.show()"
   ]
  },
  {
   "cell_type": "markdown",
   "metadata": {},
   "source": [
    "High accuracy doesn't neccecarily mean one has build a particularly fantastic model.\n",
    "If for example the dataset was on people beign tested on an increadibly rare disease and out of a hundred people only one has the disese I would still be able to achieve 99% accuracy by saying that noone in the test group has the disease.\n",
    "To avoid that class imbalances are used."
   ]
  },
  {
   "cell_type": "markdown",
   "metadata": {},
   "source": [
    "# Logistic regression\n",
    "uses ROC curve to determine accuracy\n",
    "\n",
    "We first have to convert our feature into a dummy variable as it won't be accepted in its current format"
   ]
  },
  {
   "cell_type": "code",
   "execution_count": 8,
   "metadata": {},
   "outputs": [
    {
     "data": {
      "text/plain": [
       "array([1., 0.])"
      ]
     },
     "execution_count": 8,
     "metadata": {},
     "output_type": "execute_result"
    }
   ],
   "source": [
    "y_dummy = pd.get_dummies(y)\n",
    "\n",
    "#checking that h and u got converted into a dummy variable\n",
    "pd.unique(y_dummy['h'])"
   ]
  },
  {
   "cell_type": "code",
   "execution_count": 9,
   "metadata": {},
   "outputs": [
    {
     "name": "stdout",
     "output_type": "stream",
     "text": [
      "             precision    recall  f1-score   support\n",
      "\n",
      "        0.0       0.82      0.47      0.60       484\n",
      "        1.0       0.88      0.98      0.93      1966\n",
      "\n",
      "avg / total       0.87      0.88      0.86      2450\n",
      "\n"
     ]
    }
   ],
   "source": [
    "#make new input for the train test split using the newly added dummy variables\n",
    "y_dummy= y_dummy['h']\n",
    "\n",
    "X_train, X_test, y_train, y_test = train_test_split(X, y_dummy, test_size = 0.3, random_state=123)\n",
    "\n",
    "logreg = LogisticRegression()\n",
    "logreg.fit(X_train,y_train)\n",
    "\n",
    "y_pred = logreg.predict(X_test)\n",
    "\n",
    "print(classification_report(y_test, y_pred))\n"
   ]
  },
  {
   "cell_type": "code",
   "execution_count": 10,
   "metadata": {},
   "outputs": [
    {
     "name": "stdout",
     "output_type": "stream",
     "text": [
      "[0.73010893 0.82360311 0.94794121 ... 0.9171646  0.62181356 0.78997367]\n"
     ]
    },
    {
     "data": {
      "image/png": "[encoded data removed]",
      "text/plain": [
       "<matplotlib.figure.Figure at 0x119502e80>"
      ]
     },
     "metadata": {},
     "output_type": "display_data"
    }
   ],
   "source": [
    "y_predict_prob = logreg.predict_proba(X_test)[:,1]\n",
    "print (y_predict_prob)\n",
    "\n",
    "# generating the false positive rate, true positive rate as well as threshholds\n",
    "fpr, tpr, threshholds = roc_curve(y_test, y_predict_prob)\n",
    "\n",
    "\n",
    "plt.plot([0, 1], [0, 1], '--')\n",
    "plt.plot(fpr, tpr)\n",
    "plt.xlabel('False Positive Rate')\n",
    "plt.ylabel('True Positive Rate')\n",
    "plt.show()"
   ]
  },
  {
   "cell_type": "markdown",
   "metadata": {},
   "source": [
    "The better the model the larger the area under the curve.\n",
    "In perfect conditions this would be 1.0. When the area under the curve is 0.5 the model is completely random. The value should never fall below 0.5 as this would indicate something wrong is happening somewhere in the process."
   ]
  },
  {
   "cell_type": "markdown",
   "metadata": {},
   "source": [
    "# Prescision in regression models\n",
    "In regression models we will always try and minimize an error function.\n",
    "Most commonly this is R$^{2}$ though that is dependant on the problem and field.\n",
    "K-fold cross validation is used to adress possible biases being introduced while splitting the data. It is however computationally expensive.\n",
    "A model can further be improoved by using regularization (Lasso/Ridge in sklearn), which can help prevent over or underfitting."
   ]
  },
  {
   "cell_type": "code",
   "execution_count": 11,
   "metadata": {},
   "outputs": [
    {
     "name": "stdout",
     "output_type": "stream",
     "text": [
      "0.4691444235023855 0.0709759773966132\n"
     ]
    },
    {
     "name": "stderr",
     "output_type": "stream",
     "text": [
      "//anaconda/lib/python3.5/site-packages/scipy/linalg/basic.py:1226: RuntimeWarning: internal gelsd driver lwork query error, required iwork dimension not returned. This is likely the result of LAPACK bug 0038, fixed in LAPACK 3.2.2 (released July 21, 2010). Falling back to 'gelss' driver.\n",
      "  warnings.warn(mesg, RuntimeWarning)\n"
     ]
    }
   ],
   "source": [
    "# using new set of inputs for linear regression\n",
    "y_lin = df['Price'].values\n",
    "X_lin = df[['Rooms','Distance','YearBuilt','Landsize','BuildingArea']].values\n",
    "\n",
    "reg = LinearRegression()\n",
    "kfold = KFold(n_splits=10, random_state=42)\n",
    "cv_scores = cross_val_score(reg,X_lin,y_lin,cv=kfold)\n",
    "\n",
    "#cross validation scpres plus error\n",
    "print(cv_scores.mean(), cv_scores.std())"
   ]
  },
  {
   "cell_type": "markdown",
   "metadata": {},
   "source": [
    "with a value of <0.5 this presents a rather poor fit"
   ]
  },
  {
   "cell_type": "code",
   "execution_count": null,
   "metadata": {},
   "outputs": [],
   "source": []
  }
 ],
 "metadata": {
  "kernelspec": {
   "display_name": "Python 3",
   "language": "python",
   "name": "python3"
  },
  "language_info": {
   "codemirror_mode": {
    "name": "ipython",
    "version": 3
   },
   "file_extension": ".py",
   "mimetype": "text/x-python",
   "name": "python",
   "nbconvert_exporter": "python",
   "pygments_lexer": "ipython3",
   "version": "3.5.1"
  }
 },
 "nbformat": 4,
 "nbformat_minor": 1
}
